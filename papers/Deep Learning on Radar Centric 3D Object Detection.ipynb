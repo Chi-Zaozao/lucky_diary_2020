{
 "cells": [
  {
   "cell_type": "markdown",
   "metadata": {},
   "source": [
    "# Deep Learning on Radar Centric 3D Object Detection"
   ]
  },
  {
   "cell_type": "markdown",
   "metadata": {},
   "source": [
    "### 论文使用LiDAR预训练效果极差，有待实验验证"
   ]
  },
  {
   "cell_type": "markdown",
   "metadata": {},
   "source": [
    "when evaluated on Complex-YOLO network to Astyx radar data with pretrained weight by KITTI LiDAR dataset, it showed AP of ***0.015%0.034%,1.447%*** for occluded, partially occluded and not occluded cars respectively which indicates that LiDAR and radar point clouds have very different properties"
   ]
  },
  {
   "cell_type": "markdown",
   "metadata": {},
   "source": [
    "From the poor evaluation that the network pre-trained on LiDAR data showed, the representation of LiDAR and radar point cloud are very different and the naive approach of **applying LiDAR based networks on radar data is likely to fail**."
   ]
  },
  {
   "cell_type": "markdown",
   "metadata": {},
   "source": [
    "### 3d object detection的一种分类方式"
   ]
  },
  {
   "cell_type": "markdown",
   "metadata": {},
   "source": [
    "Object detection networks that takes input point clouds only can be divided into three methods that leverage the mature 2D detection frameworks by projecting the point clouds into **bird’seyeview**, or transform the point clouds into **regular 3D voxels**, and learn **directly from the 3D point cloud data** for point cloud classification and segmentation."
   ]
  },
  {
   "cell_type": "markdown",
   "metadata": {},
   "source": [
    "### 论文证明雷达信息可被深度网络良好拟合，但我的就不行，继续调参，加油"
   ]
  },
  {
   "cell_type": "markdown",
   "metadata": {},
   "source": [
    "The radar is able to generalize well on deep neural networks"
   ]
  }
 ],
 "metadata": {
  "kernelspec": {
   "display_name": "Python 3",
   "language": "python",
   "name": "python3"
  },
  "language_info": {
   "codemirror_mode": {
    "name": "ipython",
    "version": 3
   },
   "file_extension": ".py",
   "mimetype": "text/x-python",
   "name": "python",
   "nbconvert_exporter": "python",
   "pygments_lexer": "ipython3",
   "version": "3.6.8"
  }
 },
 "nbformat": 4,
 "nbformat_minor": 4
}
